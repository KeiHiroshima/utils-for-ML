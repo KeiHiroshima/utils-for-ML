{
 "cells": [
  {
   "cell_type": "code",
   "execution_count": null,
   "metadata": {},
   "outputs": [],
   "source": [
    "import os\n",
    "# Data manipulation\n",
    "import datetime\n",
    "import numpy as np\n",
    "import pandas as pd\n",
    "import pandas.api.types as ptypes\n",
    "\n",
    "# Visualizations\n",
    "import matplotlib.pyplot as plt\n",
    "import seaborn as sns\n",
    "%matplotlib inline\n",
    "\n",
    "# Pandas settings\n",
    "pd.options.display.max_columns = None\n",
    "pd.options.display.max_colwidth = 60\n",
    "pd.options.display.float_format = '{:,.3f}'.format\n",
    "\n",
    "# Visualization settings\n",
    "from matplotlib import rcParams\n",
    "plt.style.use('fivethirtyeight')\n",
    "rcParams['figure.figsize'] = (16, 5)\n",
    "rcParams['axes.spines.right'] = False\n",
    "rcParams['axes.spines.top'] = False\n",
    "rcParams['font.size'] = 12\n",
    "# rcParams['figure.dpi'] = 300\n",
    "rcParams['savefig.dpi'] = 300\n",
    "plt.rc('xtick', labelsize=11)\n",
    "plt.rc('ytick', labelsize=11)\n",
    "custom_palette = ['#003f5c', '#444e86', '#955196', '#dd5182', '#ff6e54', '#ffa600']\n",
    "custom_hue = ['#004c6d', '#346888', '#5886a5', '#7aa6c2', '#9dc6e0', '#c1e7ff']\n",
    "custom_divergent = ['#00876c', '#6aaa96', '#aecdc2', '#f1f1f1', '#f0b8b8', '#e67f83', '#d43d51']\n",
    "sns.set_palette(custom_palette)\n",
    "%config InlineBackend.figure_format = 'retina'"
   ]
  }
 ],
 "metadata": {
  "language_info": {
   "name": "python"
  }
 },
 "nbformat": 4,
 "nbformat_minor": 2
}
